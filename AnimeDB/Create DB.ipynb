{
 "cells": [
  {
   "cell_type": "code",
   "execution_count": 1,
   "metadata": {},
   "outputs": [],
   "source": [
    "import json\n",
    "import sqlite3\n",
    "import requests\n",
    "import os\n",
    "from kaggle import KaggleApi\n",
    "import pandas as pd\n",
    "import ast\n",
    "\n",
    "api = KaggleApi()\n",
    "\n",
    "api.authenticate()\n"
   ]
  },
  {
   "cell_type": "markdown",
   "metadata": {},
   "source": [
    "# Download Data"
   ]
  },
  {
   "cell_type": "code",
   "execution_count": 2,
   "metadata": {},
   "outputs": [],
   "source": [
    "def create_file_directory(directory_path):\n",
    "    \"\"\"Creates a file directory.\n",
    "\n",
    "    Args:\n",
    "      directory_path: The path to the directory to create.\n",
    "    \"\"\"\n",
    "\n",
    "    if not os.path.exists(directory_path):\n",
    "        os.makedirs(directory_path)\n",
    "\n",
    "\n",
    "def download_github_json_file(repo_url, file_path):\n",
    "    \"\"\"Downloads a JSON file from a GitHub repo.\n",
    "\n",
    "    Args:\n",
    "      repo_url: The URL of the GitHub repo.\n",
    "      file_path: The path to the JSON file in the repo.\n",
    "    \"\"\"\n",
    "\n",
    "    response = requests.get(repo_url + '/raw/main/' + file_path)\n",
    "    if response.status_code == 200:\n",
    "        with open(file_path, 'wb') as f:\n",
    "            f.write(response.content)\n",
    "    else:\n",
    "        raise Exception(\n",
    "            'Failed to download JSON file: {}'.format(response.status_code))\n"
   ]
  },
  {
   "cell_type": "code",
   "execution_count": 3,
   "metadata": {},
   "outputs": [],
   "source": [
    "# create_file_directory(\"Data/Bronze/manami-project/\")\n",
    "# create_file_directory(\n",
    "#     \"Data/Bronze/Kaggle/myanimelist-dataset-animes-profiles-reviews/\")\n",
    "# create_file_directory(\"Data/Bronze/Kaggle/anime-recommendations-database/\")\n",
    "# create_file_directory(\"Data/Silver/\")\n"
   ]
  },
  {
   "cell_type": "code",
   "execution_count": 4,
   "metadata": {},
   "outputs": [],
   "source": [
    "# download_github_json_file(\n",
    "#     \"https://github.com/manami-project/anime-offline-database/blob/master/anime-offline-database.json?raw=true\",\n",
    "#     \"Data/Bronze/manami-project/anime-offline-database.json\")\n"
   ]
  },
  {
   "cell_type": "code",
   "execution_count": 5,
   "metadata": {},
   "outputs": [],
   "source": [
    "# api.dataset_download_files(dataset=\"CooperUnion/anime-recommendations-database\",\n",
    "#                            path=\"Data/Bronze/Kaggle/anime-recommendations-database\", unzip=True)\n",
    "\n",
    "# api.dataset_download_files(dataset=\"marlesson/myanimelist-dataset-animes-profiles-reviews\",\n",
    "#                            path=\"Data/Bronze/Kaggle/myanimelist-dataset-animes-profiles-reviews\", unzip=True)\n"
   ]
  },
  {
   "cell_type": "markdown",
   "metadata": {},
   "source": [
    "# Merge Data"
   ]
  },
  {
   "cell_type": "code",
   "execution_count": 6,
   "metadata": {},
   "outputs": [],
   "source": [
    "with open('Data/Bronze/manami-project/anime-offline-database.json', 'r') as json_file:\n",
    "    data_json = json.load(json_file)\n",
    "\n",
    "git_anime = pd.DataFrame(data_json['data'])\n",
    "\n",
    "kaggle_anime = pd.read_csv(\n",
    "    \"Data/Bronze/Kaggle/myanimelist-dataset-animes-profiles-reviews/animes.csv\")\n",
    "\n",
    "kaggle_to_merge = kaggle_anime[[\n",
    "    'title', 'members',\t'popularity',\t'ranked',\t'score']]\n",
    "\n",
    "data_full = pd.merge(git_anime, kaggle_to_merge, how='left', on='title')\n",
    "\n",
    "data_full.to_json('Data/Silver/anime-full.json', orient='records')\n"
   ]
  },
  {
   "cell_type": "markdown",
   "metadata": {},
   "source": [
    "# Create SQLITE DB"
   ]
  },
  {
   "cell_type": "code",
   "execution_count": 10,
   "metadata": {},
   "outputs": [
    {
     "data": {
      "text/plain": [
       "<sqlite3.Cursor at 0x2df8f276b40>"
      ]
     },
     "execution_count": 10,
     "metadata": {},
     "output_type": "execute_result"
    }
   ],
   "source": [
    "conn = sqlite3.connect('anime-test1.db')\n",
    "cursor = conn.cursor()\n",
    "\n",
    "script = open('Create Tables.sql', 'r').read()\n",
    "cursor.executescript(script)\n"
   ]
  },
  {
   "cell_type": "markdown",
   "metadata": {},
   "source": [
    "# Load Anime Data"
   ]
  },
  {
   "cell_type": "code",
   "execution_count": 13,
   "metadata": {},
   "outputs": [],
   "source": [
    "with open('Data/Silver/anime-full.json', 'r') as json_file:\n",
    "    anime_list = json.load(json_file)\n",
    "\n",
    "\n",
    "# for data in anime_list:\n",
    "#     cursor.execute('''\n",
    "#         INSERT INTO anime (title, type, episodes, year, season, status, score, ranking, popularity, members)\n",
    "#         VALUES (?, ?, ?, ?, ?, ?, ?, ?, ?, ?)\n",
    "#     ''', (data['title'], data['type'], data['episodes'], data['animeSeason']['year'], data['animeSeason']['season'], data['status'], data['score'], data['ranked'], data['popularity'], data['members']))\n",
    "\n",
    "#     anime_id = cursor.lastrowid\n",
    "\n",
    "#     for synonym in data['synonyms']:\n",
    "#         cursor.execute(\n",
    "#             'INSERT INTO synonyms (synonym, anime_id) VALUES (?, ?)', (synonym, anime_id))\n",
    "\n",
    "#     for source in data['sources']:\n",
    "#         cursor.execute('INSERT INTO source (name) VALUES (?)', (source,))\n",
    "#         source_id = cursor.lastrowid  # Get the source_id of the inserted source\n",
    "\n",
    "#         cursor.execute(\n",
    "#             'SELECT 1 FROM source_bridging WHERE anime_id = ? AND source_id = ?', (anime_id, source_id))\n",
    "#         existing_relationship = cursor.fetchone()\n",
    "\n",
    "#         if not existing_relationship:\n",
    "#             cursor.execute(\n",
    "#                 'INSERT INTO source_bridging (anime_id, source_id) VALUES (?, ?)', (anime_id, source_id))\n",
    "\n",
    "#     for tag in data['tags']:\n",
    "#         cursor.execute('INSERT OR IGNORE INTO tags (tag) VALUES (?)', (tag,))\n",
    "#         cursor.execute('SELECT tag_id FROM tags WHERE tag=?', (tag,))\n",
    "#         tag_id = cursor.fetchone()[0]\n",
    "#         cursor.execute(\n",
    "#             'INSERT INTO tags_bridging (anime_id, tag_id) VALUES (?, ?)', (anime_id, tag_id))\n",
    "\n",
    "for data in anime_list:\n",
    "    cursor.execute('''\n",
    "        INSERT INTO anime (title, type, episodes, year, season, status, score, ranking, popularity, members)\n",
    "        VALUES (?, ?, ?, ?, ?, ?, ?, ?, ?, ?)\n",
    "    ''', (data['title'], data['type'], data['episodes'], data['animeSeason']['year'], data['animeSeason']['season'], data['status'], data['score'], data['ranked'], data['popularity'], data['members']))\n",
    "\n",
    "    anime_id = cursor.lastrowid\n",
    "\n",
    "    for synonym in data['synonyms']:\n",
    "        cursor.execute(\n",
    "            'INSERT INTO synonyms (synonym, anime_id) VALUES (?, ?)', (synonym, anime_id))\n",
    "        \n",
    "    for source in data['sources']:\n",
    "        cursor.execute(\n",
    "            'INSERT OR IGNORE INTO source (name) VALUES (?)', (source,))\n",
    "        cursor.execute(\n",
    "            'SELECT source_id FROM source WHERE name = ?', (source,))\n",
    "        source_row = cursor.fetchone()\n",
    "\n",
    "        if source_row:\n",
    "            source_id = source_row[0]\n",
    "        else:\n",
    "            source_id = cursor.lastrowid\n",
    "\n",
    "        cursor.execute(\n",
    "            'INSERT OR IGNORE INTO source_bridging (anime_id, source_id) VALUES (?, ?)', (anime_id, source_id))\n",
    "\n",
    "    for tag in data['tags']:\n",
    "        cursor.execute(\n",
    "            'INSERT OR IGNORE INTO tags (tag) VALUES (?)', (tag,))\n",
    "        cursor.execute(\n",
    "            'SELECT tag_id FROM tags WHERE tag = ?', (tag,))\n",
    "        tag_row = cursor.fetchone()\n",
    "\n",
    "        if tag_row:\n",
    "            tag_id = tag_row[0]\n",
    "        else:\n",
    "            tag_id = cursor.lastrowid\n",
    "\n",
    "        cursor.execute(\n",
    "            'INSERT OR IGNORE INTO tags_bridging (anime_id, tag_id) VALUES (?, ?)', (anime_id, tag_id))"
   ]
  },
  {
   "cell_type": "markdown",
   "metadata": {},
   "source": [
    "# Load Users Data "
   ]
  },
  {
   "cell_type": "code",
   "execution_count": 14,
   "metadata": {},
   "outputs": [
    {
     "data": {
      "text/plain": [
       "81727"
      ]
     },
     "execution_count": 14,
     "metadata": {},
     "output_type": "execute_result"
    }
   ],
   "source": [
    "profiles = pd.read_csv(\"Data/Bronze/Kaggle/myanimelist-dataset-animes-profiles-reviews/profiles.csv\")\n",
    "profiles.rename(columns={'profile': 'username'}, inplace=True)\n",
    "profile_to_add = profiles[[\n",
    "    'username',\n",
    "    'gender',\n",
    "    'birthday',\n",
    "    'link'\n",
    "]]\n",
    "\n",
    "profile_to_add.to_csv('Data/Silver/profiles.csv', index=False)\n",
    "\n",
    "profile_to_add.to_sql('users', conn, if_exists='append', index=False)"
   ]
  },
  {
   "cell_type": "markdown",
   "metadata": {},
   "source": [
    "# Load Reviews Data "
   ]
  },
  {
   "cell_type": "code",
   "execution_count": 15,
   "metadata": {},
   "outputs": [],
   "source": [
    "reviews = pd.read_csv(\n",
    "    \"Data/Bronze/Kaggle/myanimelist-dataset-animes-profiles-reviews/reviews.csv\")\n",
    "\n",
    "reviews['scores'] = reviews['scores'].apply(ast.literal_eval)\n",
    "\n",
    "reviews = pd.concat([reviews.drop(['scores', 'score'], axis=1),\n",
    "                    reviews['scores'].apply(pd.Series)], axis=1)\n",
    "\n",
    "reviews.rename(columns={\n",
    "    'Overall': 'overall_score',\n",
    "    'Story': 'story_score',\n",
    "    'Animation': 'animation_score',\n",
    "    'Sound': 'sound_score',\n",
    "    'Character': 'character_score',\n",
    "    'Enjoyment': 'enjoyment_score',\n",
    "    'text': 'review',\n",
    "    'profile': 'username',\n",
    "    'anime_uid': 'anime_id'\n",
    "}, inplace=True)\n",
    "\n",
    "kaggle_anime = kaggle_anime[['uid', 'title']]\n",
    "\n",
    "kaggle_anime.rename(columns={'uid': 'anime_id'}, inplace=True)\n",
    "\n",
    "reviews = pd.merge(reviews, kaggle_anime, how='left', on='anime_id')\n",
    "\n",
    "anime_table = cursor.execute('''SELECT*FROM anime''')\n",
    "\n",
    "anime_table = pd.DataFrame(anime_table.fetchall())\n",
    "\n",
    "anime_table.columns = [x[0] for x in cursor.description]\n",
    "\n",
    "anime_table_to_merge = anime_table[['anime_id', 'title']]"
   ]
  },
  {
   "cell_type": "code",
   "execution_count": 16,
   "metadata": {},
   "outputs": [],
   "source": [
    "reviews = pd.concat([reviews, anime_table_to_merge], axis=1)\n",
    "\n",
    "users = cursor.execute('''SELECT*FROM users''')\n",
    "users = pd.DataFrame(users.fetchall())\n",
    "users.columns = [x[0] for x in cursor.description]\n",
    "users = users[['username', 'user_id']]\n",
    "reviews = pd.merge(reviews, users, how='left', on='username')"
   ]
  },
  {
   "cell_type": "code",
   "execution_count": 17,
   "metadata": {},
   "outputs": [
    {
     "data": {
      "text/plain": [
       "811636"
      ]
     },
     "execution_count": 17,
     "metadata": {},
     "output_type": "execute_result"
    }
   ],
   "source": [
    "reviews = reviews[[\n",
    "    'review',\n",
    "    'overall_score', \n",
    "    'story_score',\n",
    "    'animation_score',\n",
    "    'sound_score',\n",
    "    'character_score',\n",
    "    'enjoyment_score',\n",
    "    'link',\n",
    "    'anime_id',\n",
    "    'user_id'\n",
    "]]\n",
    "\n",
    "reviews.to_csv('Data/Silver/reviews.csv', index=False)\n",
    "\n",
    "reviews.to_sql('reviews', conn, if_exists='append', index=False)"
   ]
  },
  {
   "cell_type": "markdown",
   "metadata": {},
   "source": [
    "# Load user_favorite_anime Data"
   ]
  },
  {
   "cell_type": "code",
   "execution_count": 18,
   "metadata": {},
   "outputs": [
    {
     "data": {
      "text/plain": [
       "81727"
      ]
     },
     "execution_count": 18,
     "metadata": {},
     "output_type": "execute_result"
    }
   ],
   "source": [
    "rev = cursor.execute('''SELECT*FROM reviews''')\n",
    "\n",
    "rev = pd.DataFrame(rev.fetchall())\n",
    "\n",
    "rev.columns = [x[0] for x in cursor.description]\n",
    "\n",
    "profiles.rename(columns={'favorites_anime': 'anime_id'}, inplace=True)\n",
    "\n",
    "\n",
    "profiles['anime_id'] = profiles['anime_id'].apply(\n",
    "    pd.to_numeric, args=('coerce',))\n",
    "\n",
    "user_favorite_anime = pd.merge(\n",
    "    profiles, kaggle_anime, how='left', on='anime_id')\n",
    "\n",
    "user_favorite_anime = user_favorite_anime[['username', 'title']]\n",
    "\n",
    "anime_ids = pd.read_sql_query('''SELECT anime_id, title FROM anime''', conn)\n",
    "\n",
    "anime_ids = pd.DataFrame(anime_ids)\n",
    "\n",
    "user_ids = pd.read_sql_query('''SELECT user_id, username FROM users''', conn)\n",
    "\n",
    "user_ids = pd.DataFrame(user_ids)\n",
    "\n",
    "user_favorite_anime = pd.merge(\n",
    "    user_favorite_anime, anime_ids, how='left', on='title')\n",
    "\n",
    "user_favorite_anime = pd.merge(\n",
    "    user_favorite_anime, user_ids, how='left', on='username')\n",
    "\n",
    "user_favorite_anime = user_favorite_anime[['user_id', 'anime_id']]\n",
    "\n",
    "user_favorite_anime.drop_duplicates(\n",
    "    subset=['user_id', 'anime_id'], inplace=True)\n",
    "\n",
    "user_favorite_anime.to_csv('Data/Silver/user_favorite_anime.csv', index=False)\n",
    "\n",
    "user_favorite_anime.to_sql('user_favorite_anime',\n",
    "                           conn, if_exists='append', index=False)\n"
   ]
  },
  {
   "cell_type": "code",
   "execution_count": 19,
   "metadata": {},
   "outputs": [],
   "source": [
    "conn.commit()\n",
    "conn.close()"
   ]
  }
 ],
 "metadata": {
  "kernelspec": {
   "display_name": "AnimeProject",
   "language": "python",
   "name": "python3"
  },
  "language_info": {
   "codemirror_mode": {
    "name": "ipython",
    "version": 3
   },
   "file_extension": ".py",
   "mimetype": "text/x-python",
   "name": "python",
   "nbconvert_exporter": "python",
   "pygments_lexer": "ipython3",
   "version": "3.10.13"
  }
 },
 "nbformat": 4,
 "nbformat_minor": 2
}
